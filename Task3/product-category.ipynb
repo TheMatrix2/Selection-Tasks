{
 "cells": [
  {
   "cell_type": "code",
   "execution_count": 2,
   "id": "initial_id",
   "metadata": {
    "collapsed": true,
    "ExecuteTime": {
     "end_time": "2024-04-02T15:04:31.382915Z",
     "start_time": "2024-04-02T15:04:31.184374Z"
    }
   },
   "outputs": [],
   "source": [
    "from pyspark.sql import SparkSession\n",
    "from pyspark.sql.functions import col, collect_list"
   ]
  },
  {
   "cell_type": "code",
   "outputs": [
    {
     "name": "stderr",
     "output_type": "stream",
     "text": [
      "24/04/02 18:04:37 WARN Utils: Your hostname, thematrix-lt resolves to a loopback address: 127.0.1.1; using 172.20.10.4 instead (on interface wlp2s0)\n",
      "24/04/02 18:04:37 WARN Utils: Set SPARK_LOCAL_IP if you need to bind to another address\n",
      "Setting default log level to \"WARN\".\n",
      "To adjust logging level use sc.setLogLevel(newLevel). For SparkR, use setLogLevel(newLevel).\n",
      "24/04/02 18:04:38 WARN NativeCodeLoader: Unable to load native-hadoop library for your platform... using builtin-java classes where applicable\n",
      "24/04/02 18:04:39 WARN Utils: Service 'SparkUI' could not bind on port 4040. Attempting port 4041.\n"
     ]
    }
   ],
   "source": [
    "spark = SparkSession.builder.appName('ProductCategory').getOrCreate()"
   ],
   "metadata": {
    "collapsed": false,
    "ExecuteTime": {
     "end_time": "2024-04-02T15:04:41.310021Z",
     "start_time": "2024-04-02T15:04:33.768172Z"
    }
   },
   "id": "971d8fc5a1458cd1",
   "execution_count": 3
  },
  {
   "cell_type": "code",
   "outputs": [],
   "source": [
    "data = [(\"Product1\", \"Category1\"),\n",
    "        (\"Product1\", \"Category2\"),\n",
    "        (\"\", \"Category4\"),\n",
    "        (\"Product2\", \"Category1\"),\n",
    "        (\"Product3\", \"Category3\"),\n",
    "        (\"Product4\", \"\"),]\n",
    "dataframe = spark.createDataFrame(data, ['Product', 'Category'])"
   ],
   "metadata": {
    "collapsed": false,
    "ExecuteTime": {
     "end_time": "2024-04-02T15:06:33.933424Z",
     "start_time": "2024-04-02T15:06:30.123930Z"
    }
   },
   "id": "a01b37f0aa93348d",
   "execution_count": 4
  },
  {
   "cell_type": "code",
   "outputs": [
    {
     "name": "stderr",
     "output_type": "stream",
     "text": [
      "                                                                                \r"
     ]
    },
    {
     "name": "stdout",
     "output_type": "stream",
     "text": [
      "+--------+\n",
      "| Product|\n",
      "+--------+\n",
      "|Product4|\n",
      "+--------+\n"
     ]
    }
   ],
   "source": [
    "without_category = dataframe.select('Product').filter(\"Category like '' \").show()"
   ],
   "metadata": {
    "collapsed": false,
    "ExecuteTime": {
     "end_time": "2024-04-02T15:17:57.744497Z",
     "start_time": "2024-04-02T15:17:51.644763Z"
    }
   },
   "id": "5c3f7ece2272c970",
   "execution_count": 8
  },
  {
   "cell_type": "code",
   "outputs": [
    {
     "name": "stdout",
     "output_type": "stream",
     "text": [
      "+--------+---------+\n",
      "| Product| Category|\n",
      "+--------+---------+\n",
      "|Product1|Category2|\n",
      "|Product1|Category1|\n",
      "|Product2|Category1|\n",
      "|Product3|Category3|\n",
      "+--------+---------+\n"
     ]
    }
   ],
   "source": [
    "product_category_pairs = dataframe.sort('Product').filter('Category != \"\" and Product != \"\" ').show()"
   ],
   "metadata": {
    "collapsed": false,
    "ExecuteTime": {
     "end_time": "2024-04-02T15:27:29.561827Z",
     "start_time": "2024-04-02T15:27:28.631971Z"
    }
   },
   "id": "d7f477e3b0de0756",
   "execution_count": 13
  },
  {
   "cell_type": "code",
   "outputs": [],
   "source": [],
   "metadata": {
    "collapsed": false
   },
   "id": "7cd862d044f52fa7"
  }
 ],
 "metadata": {
  "kernelspec": {
   "display_name": "Python 3",
   "language": "python",
   "name": "python3"
  },
  "language_info": {
   "codemirror_mode": {
    "name": "ipython",
    "version": 2
   },
   "file_extension": ".py",
   "mimetype": "text/x-python",
   "name": "python",
   "nbconvert_exporter": "python",
   "pygments_lexer": "ipython2",
   "version": "2.7.6"
  }
 },
 "nbformat": 4,
 "nbformat_minor": 5
}
